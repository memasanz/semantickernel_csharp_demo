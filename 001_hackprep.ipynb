{
 "cells": [
  {
   "cell_type": "markdown",
   "id": "04b81e80",
   "metadata": {},
   "source": [
    "## Semantic Kernel - Chat On your SQL Data"
   ]
  },
  {
   "cell_type": "code",
   "execution_count": 1,
   "id": "ca08d90c",
   "metadata": {
    "vscode": {
     "languageId": "polyglot-notebook"
    }
   },
   "outputs": [
    {
     "data": {
      "text/html": [
       "<div><div></div><div></div><div><strong>Installed Packages</strong><ul><li><span>Microsoft.Extensions.Configuration, 6.0.0</span></li><li><span>Microsoft.Extensions.Configuration.Json, 6.0.0</span></li><li><span>Microsoft.SemanticKernel, 1.23.0</span></li><li><span>System.Data.SqlClient, 4.8.3</span></li></ul></div></div>"
      ]
     },
     "metadata": {},
     "output_type": "display_data"
    }
   ],
   "source": [
    "#r \"nuget: Microsoft.SemanticKernel, 1.23.0\"\n",
    "#r \"nuget: System.Data.SqlClient, 4.8.3\"\n",
    "#r \"nuget: Microsoft.Extensions.Configuration, 6.0.0\"\n",
    "#r \"nuget: Microsoft.Extensions.Configuration.Json, 6.0.0\"\n",
    "\n",
    "#!import config/Settings.cs\n",
    "#!import config/Utils.cs\n",
    "\n",
    "using Microsoft.SemanticKernel;\n",
    "using Microsoft.SemanticKernel.Connectors.OpenAI;\n",
    "using Kernel = Microsoft.SemanticKernel.Kernel;\n",
    "using System.ComponentModel;\n",
    "using System.Text.Json.Serialization;\n",
    "using System.Data.SqlClient;\n",
    "using Microsoft.Extensions.Configuration;\n"
   ]
  },
  {
   "cell_type": "code",
   "execution_count": 2,
   "id": "a78e6b1b",
   "metadata": {
    "vscode": {
     "languageId": "polyglot-notebook"
    }
   },
   "outputs": [
    {
     "name": "stdout",
     "output_type": "stream",
     "text": [
      "sqladmin\r\n"
     ]
    }
   ],
   "source": [
    "var config = new ConfigurationBuilder()\n",
    "    .SetBasePath(Directory.GetCurrentDirectory())\n",
    "    .AddJsonFile(\"config/appSettings.json\")\n",
    "    .Build();\n",
    "\n",
    "var username = config[\"SQL:Username\"];\n",
    "var password = config[\"SQL:Password\"];\n",
    "var server = config[\"SQL:Server\"];\n",
    "var database = config[\"SQL:Database\"];\n",
    "\n",
    "Console.WriteLine((username))"
   ]
  },
  {
   "cell_type": "markdown",
   "id": "3e811992",
   "metadata": {},
   "source": [
    "## Class to Retrieve DateTime with Semantic Kernel"
   ]
  },
  {
   "cell_type": "code",
   "execution_count": 3,
   "id": "e9d562d3",
   "metadata": {
    "vscode": {
     "languageId": "polyglot-notebook"
    }
   },
   "outputs": [],
   "source": [
    "public class TimeInformation\n",
    "    {\n",
    "        [KernelFunction]\n",
    "        [Description(\"Retrieves the current time in UTC.\")]\n",
    "        public string GetCurrentUtcTime() => DateTime.UtcNow.ToString(\"R\");\n",
    "    }"
   ]
  },
  {
   "cell_type": "code",
   "execution_count": 4,
   "id": "df053274",
   "metadata": {
    "vscode": {
     "languageId": "polyglot-notebook"
    }
   },
   "outputs": [],
   "source": [
    "using System;\n",
    "using System.ComponentModel;\n",
    "using System.Data.SqlClient;\n",
    "using System.Text;\n",
    "using Microsoft.SemanticKernel;\n",
    "\n",
    "public class SQLPlugIn\n",
    "{\n",
    "    private readonly string _connectionString;\n",
    "\n",
    "    public SQLPlugIn()\n",
    "    {\n",
    "        var config = new ConfigurationBuilder()\n",
    "        .SetBasePath(Directory.GetCurrentDirectory())\n",
    "        .AddJsonFile(\"config/appsettings.json\")\n",
    "        .Build();\n",
    "\n",
    "        var username = config[\"SQL:Username\"];\n",
    "        var password = config[\"SQL:Password\"];\n",
    "        var server = config[\"SQL:Server\"];\n",
    "        var database = config[\"SQL:Database\"];\n",
    "\n",
    "        _connectionString = $\"Server=tcp:{server};Initial Catalog={database};Persist Security Info=False;User ID=sqladmin;Password={password};MultipleActiveResultSets=False;Encrypt=True;TrustServerCertificate=False;Connection Timeout=30;\";\n",
    "    }\n",
    "\n",
    "    [KernelFunction, Description(\"Get list of tables in the database\")]\n",
    "    public string GetTables()\n",
    "    {\n",
    "        var query = \"SELECT TABLE_SCHEMA, TABLE_NAME FROM INFORMATION_SCHEMA.TABLES WHERE TABLE_TYPE = 'BASE TABLE'\";\n",
    "        return ExecuteQuery(query);\n",
    "    }\n",
    "\n",
    "    [KernelFunction, Description(\"Get schema information for all tables including column details\")]\n",
    "    public string GetTableSchema()\n",
    "    {\n",
    "        var query = \"SELECT TABLE_SCHEMA, TABLE_NAME, COLUMN_NAME, DATA_TYPE, IS_NULLABLE, CHARACTER_MAXIMUM_LENGTH FROM INFORMATION_SCHEMA.COLUMNS ORDER BY TABLE_SCHEMA, TABLE_NAME, ORDINAL_POSITION\";\n",
    "        return ExecuteSchemaQuery(query);\n",
    "    }\n",
    "    private string ExecuteQuery(string query)\n",
    "    {\n",
    "        var sb = new StringBuilder();\n",
    "        sb.Append(\"<table><tr><th>Schema</th><th>Table</th></tr>\");\n",
    "\n",
    "        using (var connection = new SqlConnection(_connectionString))\n",
    "        using (var command = new SqlCommand(query, connection))\n",
    "        {\n",
    "            connection.Open();\n",
    "            using (var reader = command.ExecuteReader())\n",
    "            {\n",
    "                while (reader.Read())\n",
    "                {\n",
    "                    sb.Append($\"<tr><td>{reader[\"TABLE_SCHEMA\"]}</td><td>{reader[\"TABLE_NAME\"]}</td></tr>\");\n",
    "                }\n",
    "            }\n",
    "        }\n",
    "\n",
    "        sb.Append(\"</table>\");\n",
    "        return sb.ToString();\n",
    "    }\n",
    "\\n",
    "    private string ExecuteSchemaQuery(string query)\\n",
    "    {\\n",
    "        var sb = new StringBuilder();\\n",
    "        sb.Append(\\\"<table><tr><th>Schema</th><th>Table</th><th>Column</th><th>Data Type</th><th>Nullable</th><th>Max Length</th></tr>\\\");\\n",
    "\\n",
    "        using (var connection = new SqlConnection(_connectionString))\\n",
    "        using (var command = new SqlCommand(query, connection))\\n",
    "        {\\n",
    "            connection.Open();\\n",
    "            using (var reader = command.ExecuteReader())\\n",
    "            {\\n",
    "                while (reader.Read())\\n",
    "                {\\n",
    "                    var maxLength = reader[\\\"CHARACTER_MAXIMUM_LENGTH\\\"] == DBNull.Value ? \\\"N/A\\\" : reader[\\\"CHARACTER_MAXIMUM_LENGTH\\\"].ToString();\\n",
    "                    sb.Append($\\\"<tr><td>{reader[\\\"TABLE_SCHEMA\\\"]}</td><td>{reader[\\\"TABLE_NAME\\\"]}</td><td>{reader[\\\"COLUMN_NAME\\\"]}</td><td>{reader[\\\"DATA_TYPE\\\"]}</td><td>{reader[\\\"IS_NULLABLE\\\"]}</td><td>{maxLength}</td></tr>\\\");\\n",
    "                }\\n",
    "            }\\n",
    "        }\\n",
    "\\n",
    "        sb.Append(\\\"</table>\\\");\\n",
    "        return sb.ToString();\\n",
    "    }\\n",
    "}\n"
   ]
  },
  {
   "cell_type": "code",
   "execution_count": 6,
   "id": "4a673b32",
   "metadata": {
    "vscode": {
     "languageId": "polyglot-notebook"
    }
   },
   "outputs": [],
   "source": [
    "//Create Kernel builder\n",
    "var builder = Kernel.CreateBuilder();\n",
    "// Configure AI backend used by the kernel\n",
    "var (useAzureOpenAI, model, azureEndpoint, apiKey, orgId) = Settings.LoadFromFile();\n",
    "builder.AddAzureOpenAIChatCompletion(model, azureEndpoint, apiKey);\n",
    "builder.Plugins.AddFromType<TimeInformation>();\n",
    "builder.Plugins.AddFromType<SQLPlugIn>();\n",
    "var kernel = builder.Build();\n",
    "\n",
    "\n",
    "#pragma warning disable SKEXP0001\n",
    "\n",
    "OpenAIPromptExecutionSettings openAIPromptExecutionSettings = new() \n",
    "{\n",
    "    FunctionChoiceBehavior = FunctionChoiceBehavior.Auto()\n",
    "};"
   ]
  },
  {
   "cell_type": "code",
   "execution_count": 7,
   "id": "d6bca9c1",
   "metadata": {
    "vscode": {
     "languageId": "polyglot-notebook"
    }
   },
   "outputs": [
    {
     "name": "stdout",
     "output_type": "stream",
     "text": [
      "The current time in UTC is Friday, 20 June 2025, 14:14:04.\r\n"
     ]
    }
   ],
   "source": [
    "var ask = \"What is the current time in UTC?\";\n",
    "var result = await kernel.InvokePromptAsync(ask, new(openAIPromptExecutionSettings));\n",
    "\n",
    "Console.WriteLine(result);"
   ]
  },
  {
   "cell_type": "code",
   "execution_count": 8,
   "id": "6d2176d5",
   "metadata": {
    "vscode": {
     "languageId": "polyglot-notebook"
    }
   },
   "outputs": [
    {
     "name": "stdout",
     "output_type": "stream",
     "text": [
      "Your database contains the following tables:\n",
      "\n",
      "1. Capabilities\n",
      "2. Incidents\n",
      "3. Units\n",
      "4. UnitCapabilities\n",
      "5. IncidentNotes\n",
      "\n",
      "If you need details about the columns or data in any of these tables, let me know!\r\n"
     ]
    }
   ],
   "source": [
    "var ask = \"What are the tables in my database?\";\n",
    "var result = await kernel.InvokePromptAsync(ask, new(openAIPromptExecutionSettings));\n",
    "\n",
    "Console.WriteLine(result);"
   ]
  },
  {
   "cell_type": "code",
   "execution_count": null,
   "id": "aa9aac44",
   "metadata": {
    "vscode": {
     "languageId": "polyglot-notebook"
    }
   },
   "outputs": [],
   "source": [
    "var ask = \\\"What is the schema of the tables in my database?\\\";\\n",
    "var result = await kernel.InvokePromptAsync(ask, new(openAIPromptExecutionSettings));\\n",
    "\\n",
    "Console.WriteLine(result);"
   ]
  }
 ],
 "metadata": {
  "kernelspec": {
   "display_name": ".NET (C#)",
   "language": "C#",
   "name": ".net-csharp"
  },
  "language_info": {
   "name": "python"
  },
  "polyglot_notebook": {
   "kernelInfo": {
    "defaultKernelName": "csharp",
    "items": [
     {
      "aliases": [],
      "name": "csharp"
     }
    ]
   }
  }
 },
 "nbformat": 4,
 "nbformat_minor": 5
}