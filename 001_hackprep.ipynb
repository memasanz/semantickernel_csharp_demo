{
 "cells": [
  {
   "cell_type": "markdown",
   "id": "04b81e80",
   "metadata": {},
   "source": [
    "## Semantic Kernel - Chat On your SQL Data"
   ]
  },
  {
   "cell_type": "code",
   "execution_count": 1,
   "id": "ca08d90c",
   "metadata": {
    "vscode": {
     "languageId": "polyglot-notebook"
    }
   },
   "outputs": [
    {
     "data": {
      "text/html": [
       "<div><div></div><div></div><div><strong>Installed Packages</strong><ul><li><span>Microsoft.Extensions.Configuration, 6.0.0</span></li><li><span>Microsoft.Extensions.Configuration.Json, 6.0.0</span></li><li><span>Microsoft.SemanticKernel, 1.23.0</span></li><li><span>System.Data.SqlClient, 4.8.3</span></li></ul></div></div>"
      ]
     },
     "metadata": {},
     "output_type": "display_data"
    }
   ],
   "source": [
    "#r \"nuget: Microsoft.SemanticKernel, 1.23.0\"\n",
    "#r \"nuget: System.Data.SqlClient, 4.8.3\"\n",
    "#r \"nuget: Microsoft.Extensions.Configuration, 6.0.0\"\n",
    "#r \"nuget: Microsoft.Extensions.Configuration.Json, 6.0.0\"\n",
    "\n",
    "#!import config/Settings.cs\n",
    "#!import config/Utils.cs\n",
    "\n",
    "using Microsoft.SemanticKernel;\n",
    "using Microsoft.SemanticKernel.Connectors.OpenAI;\n",
    "using Kernel = Microsoft.SemanticKernel.Kernel;\n",
    "using System.ComponentModel;\n",
    "using System.Text.Json.Serialization;\n",
    "using System.Data.SqlClient;\n",
    "using Microsoft.Extensions.Configuration;\n"
   ]
  },
  {
   "cell_type": "code",
   "execution_count": 2,
   "id": "a78e6b1b",
   "metadata": {
    "vscode": {
     "languageId": "polyglot-notebook"
    }
   },
   "outputs": [
    {
     "name": "stdout",
     "output_type": "stream",
     "text": [
      "sqladmin\r\n"
     ]
    }
   ],
   "source": [
    "var config = new ConfigurationBuilder()\n",
    "    .SetBasePath(Directory.GetCurrentDirectory())\n",
    "    .AddJsonFile(\"config/appSettings.json\")\n",
    "    .Build();\n",
    "\n",
    "var username = config[\"SQL:Username\"];\n",
    "var password = config[\"SQL:Password\"];\n",
    "var server = config[\"SQL:Server\"];\n",
    "var database = config[\"SQL:Database\"];\n",
    "\n",
    "Console.WriteLine((username))"
   ]
  },
  {
   "cell_type": "markdown",
   "id": "3e811992",
   "metadata": {},
   "source": [
    "## Class to Retrieve DateTime with Semantic Kernel"
   ]
  },
  {
   "cell_type": "code",
   "execution_count": 3,
   "id": "e9d562d3",
   "metadata": {
    "vscode": {
     "languageId": "polyglot-notebook"
    }
   },
   "outputs": [],
   "source": [
    "public class TimeInformation\n",
    "    {\n",
    "        [KernelFunction]\n",
    "        [Description(\"Retrieves the current time in UTC.\")]\n",
    "        public string GetCurrentUtcTime() => DateTime.UtcNow.ToString(\"R\");\n",
    "    }"
   ]
  },
  {
   "cell_type": "code",
   "execution_count": 18,
   "id": "df053274",
   "metadata": {
    "vscode": {
     "languageId": "polyglot-notebook"
    }
   },
   "outputs": [],
   "source": [
    "using System;\n",
    "using System.ComponentModel;\n",
    "using System.Data.SqlClient;\n",
    "using System.Text;\n",
    "using Microsoft.SemanticKernel;\n",
    "\n",
    "public class SQLPlugIn\n",
    "{\n",
    "    private readonly string _connectionString;\n",
    "\n",
    "    public SQLPlugIn()\n",
    "    {\n",
    "        var config = new ConfigurationBuilder()\n",
    "        .SetBasePath(Directory.GetCurrentDirectory())\n",
    "        .AddJsonFile(\"config/appsettings.json\")\n",
    "        .Build();\n",
    "\n",
    "        var username = config[\"SQL:Username\"];\n",
    "        var password = config[\"SQL:Password\"];\n",
    "        var server = config[\"SQL:Server\"];\n",
    "        var database = config[\"SQL:Database\"];\n",
    "\n",
    "        _connectionString = $\"Server=tcp:{server};Initial Catalog={database};Persist Security Info=False;User ID=sqladmin;Password={password};MultipleActiveResultSets=False;Encrypt=True;TrustServerCertificate=False;Connection Timeout=30;\";\n",
    "    }\n",
    "\n",
    "    [KernelFunction, Description(\"Get list of tables in the database\")]\n",
    "    public string GetTables()\n",
    "    {\n",
    "        var query = \"SELECT TABLE_SCHEMA, TABLE_NAME FROM INFORMATION_SCHEMA.TABLES WHERE TABLE_TYPE = 'BASE TABLE'\";\n",
    "        return ExecuteQuery(query);\n",
    "    }\n",
    "\n",
    "    private string ExecuteQuery(string query)\n",
    "    {\n",
    "        var sb = new StringBuilder();\n",
    "        sb.Append(\"<table><tr><th>Schema</th><th>Table</th></tr>\");\n",
    "\n",
    "        using (var connection = new SqlConnection(_connectionString))\n",
    "        using (var command = new SqlCommand(query, connection))\n",
    "        {\n",
    "            connection.Open();\n",
    "            using (var reader = command.ExecuteReader())\n",
    "            {\n",
    "                while (reader.Read())\n",
    "                {\n",
    "                    sb.Append($\"<tr><td>{reader[\"TABLE_SCHEMA\"]}</td><td>{reader[\"TABLE_NAME\"]}</td></tr>\");\n",
    "                }\n",
    "            }\n",
    "        }\n",
    "\n",
    "        sb.Append(\"</table>\");\n",
    "        return sb.ToString();\n",
    "    }\n",
    "\n",
    "    [KernelFunction, Description(\"Get list of schema for a specific table\")]\n",
    "    public string GetTableSchema(string tableName)\n",
    "    {\n",
    "        var query = $\"SELECT COLUMN_NAME, DATA_TYPE FROM INFORMATION_SCHEMA.COLUMNS WHERE TABLE_NAME = '{tableName}'\";\n",
    "        var sb = new StringBuilder();\n",
    "        sb.Append(\"<table><tr><th>Column Name</th><th>Data Type</th></tr>\");\n",
    "\n",
    "        using (var connection = new SqlConnection(_connectionString))\n",
    "        using (var command = new SqlCommand(query, connection))\n",
    "        {\n",
    "            connection.Open();\n",
    "            using (var reader = command.ExecuteReader())\n",
    "            {\n",
    "                while (reader.Read())\n",
    "                {\n",
    "                    sb.Append($\"<tr><td>{reader[\"COLUMN_NAME\"]}</td><td>{reader[\"DATA_TYPE\"]}</td></tr>\");\n",
    "                }\n",
    "            }\n",
    "        }\n",
    "\n",
    "        sb.Append(\"</table>\");\n",
    "        return sb.ToString();\n",
    "    }\n",
    "    [KernelFunction, Description(\"Get run select statement database query\")]\n",
    "    public string RunSelectQuery(string query)\n",
    "    {\n",
    "        var sb = new StringBuilder();\n",
    "        sb.Append(\"<table><tr>\");\n",
    "\n",
    "        using (var connection = new SqlConnection(_connectionString))\n",
    "        using (var command = new SqlCommand(query, connection))\n",
    "        {\n",
    "            connection.Open();\n",
    "            using (var reader = command.ExecuteReader())\n",
    "            {\n",
    "                // Add column headers\n",
    "                for (int i = 0; i < reader.FieldCount; i++)\n",
    "                {\n",
    "                    sb.Append($\"<th>{reader.GetName(i)}</th>\");\n",
    "                }\n",
    "                sb.Append(\"</tr>\");\n",
    "\n",
    "                // Add rows\n",
    "                while (reader.Read())\n",
    "                {\n",
    "                    sb.Append(\"<tr>\");\n",
    "                    for (int i = 0; i < reader.FieldCount; i++)\n",
    "                    {\n",
    "                        sb.Append($\"<td>{reader[i]}</td>\");\n",
    "                    }\n",
    "                    sb.Append(\"</tr>\");\n",
    "                }\n",
    "            }\n",
    "        }\n",
    "\n",
    "        sb.Append(\"</table>\");\n",
    "        return sb.ToString();\n",
    "    }\n",
    "\n",
    "\n",
    "}\n"
   ]
  },
  {
   "cell_type": "code",
   "execution_count": 19,
   "id": "4a673b32",
   "metadata": {
    "vscode": {
     "languageId": "polyglot-notebook"
    }
   },
   "outputs": [],
   "source": [
    "//Create Kernel builder\n",
    "var builder = Kernel.CreateBuilder();\n",
    "// Configure AI backend used by the kernel\n",
    "var (useAzureOpenAI, model, azureEndpoint, apiKey, orgId) = Settings.LoadFromFile();\n",
    "builder.AddAzureOpenAIChatCompletion(model, azureEndpoint, apiKey);\n",
    "builder.Plugins.AddFromType<TimeInformation>();\n",
    "builder.Plugins.AddFromType<SQLPlugIn>();\n",
    "var kernel = builder.Build();\n",
    "\n",
    "\n",
    "#pragma warning disable SKEXP0001\n",
    "\n",
    "OpenAIPromptExecutionSettings openAIPromptExecutionSettings = new() \n",
    "{\n",
    "    FunctionChoiceBehavior = FunctionChoiceBehavior.Auto()\n",
    "};"
   ]
  },
  {
   "cell_type": "code",
   "execution_count": 20,
   "id": "d6bca9c1",
   "metadata": {
    "vscode": {
     "languageId": "polyglot-notebook"
    }
   },
   "outputs": [
    {
     "name": "stdout",
     "output_type": "stream",
     "text": [
      "The current time in UTC is Friday, 20 June 2025, 14:32:36.\r\n"
     ]
    }
   ],
   "source": [
    "var ask = \"What is the current time in UTC?\";\n",
    "var result = await kernel.InvokePromptAsync(ask, new(openAIPromptExecutionSettings));\n",
    "\n",
    "Console.WriteLine(result);"
   ]
  },
  {
   "cell_type": "code",
   "execution_count": 21,
   "id": "6d2176d5",
   "metadata": {
    "vscode": {
     "languageId": "polyglot-notebook"
    }
   },
   "outputs": [
    {
     "name": "stdout",
     "output_type": "stream",
     "text": [
      "The tables in your database are:\n",
      "\n",
      "1. Capabilities\n",
      "2. Incidents\n",
      "3. Units\n",
      "4. UnitCapabilities\n",
      "5. IncidentNotes\n",
      "\n",
      "If you need details about any specific table or want to see their contents, let me know!\r\n"
     ]
    }
   ],
   "source": [
    "var ask = \"What are the tables in my database?\";\n",
    "var result = await kernel.InvokePromptAsync(ask, new(openAIPromptExecutionSettings));\n",
    "\n",
    "Console.WriteLine(result);"
   ]
  },
  {
   "cell_type": "code",
   "execution_count": 22,
   "id": "aa9aac44",
   "metadata": {
    "vscode": {
     "languageId": "polyglot-notebook"
    }
   },
   "outputs": [
    {
     "name": "stdout",
     "output_type": "stream",
     "text": [
      "The table 'Capabilities' has the following columns:\n",
      "- CapabilityCode (nvarchar)\n",
      "- Description (nvarchar)\r\n"
     ]
    }
   ],
   "source": [
    "var ask = \"What are the columns of the table 'Capabilities'?\";\n",
    "var result = await kernel.InvokePromptAsync(ask, new(openAIPromptExecutionSettings));\n",
    "\n",
    "Console.WriteLine(result);"
   ]
  },
  {
   "cell_type": "code",
   "execution_count": 25,
   "id": "781b1491",
   "metadata": {
    "vscode": {
     "languageId": "polyglot-notebook"
    }
   },
   "outputs": [
    {
     "name": "stdout",
     "output_type": "stream",
     "text": [
      "The available Capabilities are:\n",
      "\n",
      "1. DRN - Drone Operator\n",
      "2. FIRE - Fire Response\n",
      "3. K9 - Canine Unit\n",
      "4. MED - Medical Response\n",
      "5. NEG - Negotiator\n",
      "6. SWAT - Special Weapons and Tactics\n",
      "\n",
      "If you need more details about any specific capability, let me know!\r\n"
     ]
    }
   ],
   "source": [
    "var ask = \"What are the Capabilities that are available?\";\n",
    "var result = await kernel.InvokePromptAsync(ask, new(openAIPromptExecutionSettings));\n",
    "\n",
    "Console.WriteLine(result);"
   ]
  },
  {
   "cell_type": "code",
   "execution_count": 27,
   "id": "8fbff21e",
   "metadata": {
    "vscode": {
     "languageId": "polyglot-notebook"
    }
   },
   "outputs": [],
   "source": [
    "var history = \"\";\n",
    "\n",
    "Func<string, Task> Chat = async (string input) => {\n",
    "    // Save new message in the arguments\n",
    "\n",
    "    // Process the user message and get an answer\n",
    "    var answer = await kernel.InvokePromptAsync(input, new(openAIPromptExecutionSettings));\n",
    "\n",
    "    // Append the new interaction to the chat history\n",
    "    var result = $\"\\nUser: {input}\\nAI: {answer}\\n\";\n",
    "    history += result;\n",
    "\n",
    "    \n",
    "    // Show the response\n",
    "    Console.WriteLine(result);\n",
    "};"
   ]
  },
  {
   "cell_type": "code",
   "execution_count": 30,
   "id": "fc7a3ebc",
   "metadata": {
    "vscode": {
     "languageId": "polyglot-notebook"
    }
   },
   "outputs": [
    {
     "name": "stdout",
     "output_type": "stream",
     "text": [
      "\n",
      "User: What are the Capabilities do Units have?\n",
      "AI: Units have the following Capabilities:\n",
      "\n",
      "- DRN: Drone Operator\n",
      "- FIRE: Fire Response\n",
      "- K9: Canine Unit\n",
      "- MED: Medical Response\n",
      "- NEG: Negotiator\n",
      "- SWAT: Special Weapons and Tactics\n",
      "\n",
      "These capabilities come from the capabilities assigned to units in your system. If you need the capabilities for a specific unit, please provide its identifier.\n",
      "\r\n"
     ]
    }
   ],
   "source": [
    "Chat(\"What are the Capabilities do Units have?\").Wait();"
   ]
  },
  {
   "cell_type": "code",
   "execution_count": 31,
   "id": "339af36b",
   "metadata": {
    "vscode": {
     "languageId": "polyglot-notebook"
    }
   },
   "outputs": [
    {
     "name": "stdout",
     "output_type": "stream",
     "text": [
      "\n",
      "User: Who is currently available\n",
      "AI: The following units are currently available:\n",
      "\n",
      "1. UNIT-011 in Area-10 (Status: Idle)\n",
      "2. UNIT-014 in Area-4 (Status: Idle)\n",
      "3. UNIT-020 in Area-1 (Status: Idle)\n",
      "4. UNIT-016 in Area-2 (Status: Idle)\n",
      "5. UNIT-017 in Area-2 (Status: Idle)\n",
      "\n",
      "If you need more details or want to see their locations, let me know!\n",
      "\r\n"
     ]
    }
   ],
   "source": [
    "Chat(\"Who is currently available\").Wait();"
   ]
  },
  {
   "cell_type": "code",
   "execution_count": 32,
   "id": "ad56ad4f",
   "metadata": {
    "vscode": {
     "languageId": "polyglot-notebook"
    }
   },
   "outputs": [
    {
     "name": "stdout",
     "output_type": "stream",
     "text": [
      "Chat history:\n",
      "\n",
      "User: What are the Capabilities that are available?\n",
      "AI: Here are the Capabilities available in this environment:\n",
      "\n",
      "1. **Answer questions using knowledge up to June 2024.**\n",
      "2. **Retrieve and interact with external data via plugins/functions:**\n",
      "   - Get current UTC time.\n",
      "   - Explore, query, and retrieve data from databases (list tables, view table schemas, run select queries, etc.).\n",
      "   - Use multi-tool operations to run several functions simultaneously.\n",
      "\n",
      "If you have a specific task in mind or want details about using a particular function or plugin, please let me know!\n",
      "\n",
      "User: What are the Capabilities do Units have?\n",
      "AI: Units have the following Capabilities:\n",
      "\n",
      "- DRN: Drone Operator\n",
      "- FIRE: Fire Response\n",
      "- K9: Canine Unit\n",
      "- MED: Medical Response\n",
      "- NEG: Negotiator\n",
      "- SWAT: Special Weapons and Tactics\n",
      "\n",
      "These capabilities come from the capabilities assigned to units in your system. If you need the capabilities for a specific unit, please provide its identifier.\n",
      "\n",
      "User: Who is currently available\n",
      "AI: The following units are currently available:\n",
      "\n",
      "1. UNIT-011 in Area-10 (Status: Idle)\n",
      "2. UNIT-014 in Area-4 (Status: Idle)\n",
      "3. UNIT-020 in Area-1 (Status: Idle)\n",
      "4. UNIT-016 in Area-2 (Status: Idle)\n",
      "5. UNIT-017 in Area-2 (Status: Idle)\n",
      "\n",
      "If you need more details or want to see their locations, let me know!\n",
      "\n"
     ]
    }
   ],
   "source": [
    "Console.WriteLine(\"Chat history:\");\n",
    "Console.WriteLine(history);"
   ]
  },
  {
   "cell_type": "code",
   "execution_count": null,
   "id": "52bd5b55",
   "metadata": {
    "vscode": {
     "languageId": "polyglot-notebook"
    }
   },
   "outputs": [],
   "source": []
  }
 ],
 "metadata": {
  "kernelspec": {
   "display_name": ".NET (C#)",
   "language": "C#",
   "name": ".net-csharp"
  },
  "language_info": {
   "name": "python"
  },
  "polyglot_notebook": {
   "kernelInfo": {
    "defaultKernelName": "csharp",
    "items": [
     {
      "aliases": [],
      "name": "csharp"
     }
    ]
   }
  }
 },
 "nbformat": 4,
 "nbformat_minor": 5
}
